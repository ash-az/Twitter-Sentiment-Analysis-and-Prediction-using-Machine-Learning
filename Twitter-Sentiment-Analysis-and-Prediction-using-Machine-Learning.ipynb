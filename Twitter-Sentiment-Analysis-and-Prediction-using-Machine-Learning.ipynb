{
 "cells": [
  {
   "cell_type": "markdown",
   "metadata": {},
   "source": [
    "##### The University of Melbourne, School of Computing and Information Systems\n",
    "# COMP30027 Machine Learning, 2022 Semester 1\n",
    "\n",
    "## Assignment 2: Sentiment Classification of Tweets\n",
    "\n",
    "First we read the CSV datafiles (Train and Test)."
   ]
  },
  {
   "cell_type": "code",
   "execution_count": 1,
   "metadata": {},
   "outputs": [],
   "source": [
    "import pandas as pd\n",
    "import numpy as np\n",
    "train_data = pd.read_csv(\"C:\\\\Users\\\\Ash Azarhoush\\\\Desktop\\\\Machine Learning Ass2\\\\Train.csv\", sep=',')\n",
    "test_data = pd.read_csv(\"C:\\\\Users\\\\Ash Azarhoush\\\\Desktop\\\\Machine Learning Ass2\\\\Test.csv\", sep=',')\n",
    "train_data = train_data.iloc[: , 1:]\n"
   ]
  },
  {
   "cell_type": "markdown",
   "metadata": {},
   "source": [
    "Then we separate the tweet text and the label (sentiment). "
   ]
  },
  {
   "cell_type": "code",
   "execution_count": 2,
   "metadata": {},
   "outputs": [
    {
     "name": "stdout",
     "output_type": "stream",
     "text": [
      "Train length: 21802\n",
      "Test length: 6099\n"
     ]
    }
   ],
   "source": [
    "# separating instance and label for Train\n",
    "X_train_raw = [x[0] for x in train_data[['text']].values]\n",
    "Y_train = [x[0] for x in train_data[['sentiment']].values]\n",
    "\n",
    "#check the result\n",
    "print(\"Train length:\",len(X_train_raw))\n",
    "\n",
    "# separating instance and label for Test\n",
    "X_test_raw = [x[0] for x in test_data[['text']].values]\n",
    "\n",
    "# Untouched data \n",
    "Xtrain_clean = X_train_raw\n",
    "\n",
    "#check the result\n",
    "print(\"Test length:\",len(X_test_raw))"
   ]
  },
  {
   "cell_type": "code",
   "execution_count": 3,
   "metadata": {},
   "outputs": [
    {
     "name": "stdout",
     "output_type": "stream",
     "text": [
      " so my research paper is on minimum wage. there is literally so much i could write abt this subject but that's what's making it so hard üò≠\n"
     ]
    }
   ],
   "source": [
    "# Let's see one example tweet\n",
    "print(X_train_raw[55])"
   ]
  },
  {
   "cell_type": "markdown",
   "metadata": {},
   "source": [
    "### Cleaning the Data and Tokenization\n",
    "We remove stop words, web links, numbers, non-letters, mentions and accent marks. We also lemmitize and tokenize the data"
   ]
  },
  {
   "cell_type": "code",
   "execution_count": 4,
   "metadata": {},
   "outputs": [
    {
     "name": "stderr",
     "output_type": "stream",
     "text": [
      "[nltk_data] Downloading package wordnet to C:\\Users\\Ash\n",
      "[nltk_data]     Azarhoush\\AppData\\Roaming\\nltk_data...\n",
      "[nltk_data]   Package wordnet is already up-to-date!\n"
     ]
    }
   ],
   "source": [
    "#Please use \"!pip install gensim\" to install the \"gensim\" library\n",
    "from gensim.parsing.preprocessing import remove_stopwords\n",
    "from nltk.tokenize import wordpunct_tokenize\n",
    "from nltk.stem import WordNetLemmatizer\n",
    "import unidecode\n",
    "import re\n",
    "import nltk\n",
    "\n",
    "# Removing web links and mentions using regex\n",
    "j = 0\n",
    "for i in X_train_raw:\n",
    "    i = re.sub(r\"(?:\\@|https?\\://)\\S+\", \"\", i) \n",
    "    X_train_raw[j] = i\n",
    "    j = j + 1\n",
    "j = 0\n",
    "for i in X_test_raw:\n",
    "    i = re.sub(r\"(?:\\@|https?\\://)\\S+\", \"\", i)\n",
    "    X_test_raw[j] = i\n",
    "    j = j + 1\n",
    "\n",
    "# Tokenize using a punkt tokenizer\n",
    "X_train_token = []\n",
    "X_test_token = []\n",
    "for i in X_train_raw:\n",
    "    X_train_token.append(wordpunct_tokenize(i))\n",
    "for i in X_test_raw:\n",
    "    X_test_token.append(wordpunct_tokenize(i))\n",
    "\n",
    "# Lemmitize the data\n",
    "nltk.download('wordnet')\n",
    "lemmatizer = WordNetLemmatizer()\n",
    "for i in X_train_token:\n",
    "    k = 0\n",
    "    for j in i:\n",
    "        i[k] = lemmatizer.lemmatize(j)\n",
    "        k = k + 1\n",
    "for i in X_test_token:\n",
    "    k = 0\n",
    "    for j in i:\n",
    "        i[k] = lemmatizer.lemmatize(j)\n",
    "        k = k + 1\n",
    "\n",
    "# Removing stop words, numbers, non-letters, accent marks and turning all words lowercase \n",
    "for i in X_train_token:\n",
    "    k = 0\n",
    "    for j in i:\n",
    "        j = j.lower()\n",
    "        j = remove_stopwords(j)\n",
    "        j = ''.join([k for k in j if not k.isdigit()]) \n",
    "        j = re.sub(r'[^\\w\\s]', '', j) #using regex to remove anything that is not alphanumeric\n",
    "        j = unidecode.unidecode(j)\n",
    "        i[k] = j\n",
    "        k = k + 1    \n",
    "for i in X_test_token:\n",
    "    k = 0\n",
    "    for j in i:\n",
    "        j = j.lower()\n",
    "        j = remove_stopwords(j)\n",
    "        j = ''.join([k for k in j if not k.isdigit()]) \n",
    "        j = re.sub(r'[^\\w\\s]', '', j) #using regex to remove anything that is not alphanumeric\n",
    "        j = unidecode.unidecode(j)\n",
    "        i[k] = j\n",
    "        k = k + 1\n",
    "\n",
    "# Removing left over empty slots in data vectors\n",
    "k = 0\n",
    "for i in X_train_token:\n",
    "    i = [j for j in i if j != '']\n",
    "    X_train_token[k] = i\n",
    "    k = k + 1\n",
    "k = 0\n",
    "for i in X_test_token:\n",
    "    i = [j for j in i if j != '']\n",
    "    X_test_token[k] = i\n",
    "    k = k + 1"
   ]
  },
  {
   "cell_type": "markdown",
   "metadata": {},
   "source": [
    "### Splitting into Training and Testing Set "
   ]
  },
  {
   "cell_type": "code",
   "execution_count": 12,
   "metadata": {},
   "outputs": [],
   "source": [
    "from sklearn.model_selection import train_test_split\n",
    "\n",
    "# Data for testing performance - split training data into a train and test set\n",
    "xtrain, xtest, ytrain, ytest = train_test_split(X_train_token, Y_train, test_size = 0.3, random_state = 0, shuffle = True)\n",
    "\n",
    "# Data for the entire model - Remove hash if testing entire model  \n",
    "#xtrain = X_train_token\n",
    "#xtest = X_test_token\n",
    "#ytrain = Y_train"
   ]
  },
  {
   "cell_type": "markdown",
   "metadata": {},
   "source": [
    "### Vectorizing - TF-IDF"
   ]
  },
  {
   "cell_type": "code",
   "execution_count": 13,
   "metadata": {
    "scrolled": true
   },
   "outputs": [
    {
     "name": "stdout",
     "output_type": "stream",
     "text": [
      "(15261, 122799)\n",
      "(6541, 122799)\n"
     ]
    }
   ],
   "source": [
    "from sklearn.feature_extraction.text import TfidfVectorizer\n",
    "\n",
    "# Our dataset is already tokenized so an extra step must be taken for the TfidfVectorizer to work. \n",
    "# Adapted from https://www.davidsbatista.net/blog/2018/02/28/TfidfVectorizer/\n",
    "def dummy_fun(doc):\n",
    "    return doc\n",
    "\n",
    "# Applying tfidf vectorizer to our train and test sets \n",
    "tfidf = TfidfVectorizer(\n",
    "    analyzer='word',\n",
    "    tokenizer=dummy_fun,\n",
    "    preprocessor=dummy_fun,\n",
    "    token_pattern=None,\n",
    "    ngram_range = (1,2)) # Unigram AND Bigrams to be extracted\n",
    "\n",
    "# Build the feature set (vocabulary) and vectorise the Tarin dataset using TFIDF\n",
    "tfidf.fit(xtrain)\n",
    "xtrainvector = tfidf.transform(xtrain)\n",
    "\n",
    "# Use the feature set (vocabulary) from Train to vectorise the Test dataset \n",
    "xtestvector = tfidf.transform(xtest)\n",
    "\n",
    "\n",
    "print(xtrainvector.shape)\n",
    "print(xtestvector.shape)"
   ]
  },
  {
   "cell_type": "markdown",
   "metadata": {},
   "source": [
    "### TF-IDF for Unprocessed data "
   ]
  },
  {
   "cell_type": "code",
   "execution_count": 40,
   "metadata": {},
   "outputs": [
    {
     "name": "stdout",
     "output_type": "stream",
     "text": [
      "(15261, 156520)\n",
      "(6541, 156520)\n"
     ]
    }
   ],
   "source": [
    "# Unprocessed data split\n",
    "xtrainU, xtestU, ytrainU, ytestU = train_test_split(Xtrain_clean, Y_train, test_size = 0.3, random_state = 0, shuffle = True)\n",
    "\n",
    "tfidf_vectorizer = TfidfVectorizer(ngram_range = (1,2))\n",
    "\n",
    "xtrainvectorU = tfidf_vectorizer.fit_transform(xtrainU)\n",
    "xtestvectorU = tfidf_vectorizer.transform(xtestU)\n",
    "\n",
    "print(xtrainvectorU.shape)\n",
    "print(xtestvectorU.shape)"
   ]
  },
  {
   "cell_type": "markdown",
   "metadata": {},
   "source": [
    "### Speed and Accuracy of Unprocessed vs Engineered Features"
   ]
  },
  {
   "cell_type": "code",
   "execution_count": 41,
   "metadata": {},
   "outputs": [
    {
     "name": "stdout",
     "output_type": "stream",
     "text": [
      "Engineered features had accuracy 66.152% and took 5916.162 milliseconds.\n",
      "Unprocessed features had accuracy 66.106% and took 6914.224 milliseconds.\n"
     ]
    }
   ],
   "source": [
    "from sklearn.linear_model import LogisticRegression\n",
    "from timeit import default_timer as timer\n",
    "\n",
    "# LR for engineered features \n",
    "clflr = LogisticRegression(max_iter=2000)\n",
    "\n",
    "# Start timer and fit the model\n",
    "start = timer()\n",
    "clflr.fit(xtrainvector, ytrain)\n",
    "\n",
    "# Predict outputs\n",
    "ypredictedlr = list(clflr.predict(xtestvector))\n",
    "\n",
    "# End timer and calculate time\n",
    "end = timer()\n",
    "time = (end - start) * 1000\n",
    "\n",
    "\n",
    "# LR for unprocessed features \n",
    "clflrU = LogisticRegression(max_iter=2000)\n",
    "\n",
    "startU = timer()\n",
    "clflrU.fit(xtrainvectorU, ytrainU)\n",
    "\n",
    "ypredictedlrU = list(clflrU.predict(xtestvectorU))\n",
    "\n",
    "endU = timer()\n",
    "timeU = (endU - startU) * 1000\n",
    "\n",
    "# Accuracy of both models\n",
    "accuracyE = accuracy_score(ytest, ypredictedlr) * 100 \n",
    "accuracyU = accuracy_score(ytestU, ypredictedlrU) * 100\n",
    "\n",
    "print(\"Engineered features had accuracy %.3f%% and took %.3f milliseconds.\" % (accuracyE, time))\n",
    "print(\"Unprocessed features had accuracy %.3f%% and took %.3f milliseconds.\" % (accuracyU, timeU))"
   ]
  },
  {
   "cell_type": "markdown",
   "metadata": {},
   "source": [
    "### Check for Imbalances"
   ]
  },
  {
   "cell_type": "code",
   "execution_count": 11,
   "metadata": {},
   "outputs": [
    {
     "name": "stdout",
     "output_type": "stream",
     "text": [
      "The proportion of positive sentiment in the entire training data = 0.24896798458856986\n",
      "The proportion of neutral sentiment in the entire training data = 0.5806348041464086\n",
      "The proportion of negative sentiment in the entire training data = 0.17039721126502155\n"
     ]
    }
   ],
   "source": [
    "from collections import Counter\n",
    "c = Counter(Y_train)\n",
    "print(\"The proportion of positive sentiment in the entire training data =\",  c[\"positive\"]/len(Y_train))\n",
    "print(\"The proportion of neutral sentiment in the entire training data =\", c[\"neutral\"]/len(Y_train))\n",
    "print(\"The proportion of negative sentiment in the entire training data =\", c[\"negative\"]/len(Y_train))"
   ]
  },
  {
   "cell_type": "markdown",
   "metadata": {},
   "source": [
    "There are many more instances of \"neutral\" sentiment than the other two. We should balance the data set before we fit the models to improve the classification performance of the minority sentiments."
   ]
  },
  {
   "cell_type": "markdown",
   "metadata": {},
   "source": [
    "### Fitting Random Classifiers"
   ]
  },
  {
   "cell_type": "code",
   "execution_count": 8,
   "metadata": {},
   "outputs": [],
   "source": [
    "from sklearn import svm\n",
    "# Linear support-vector machine\n",
    "clfSVC = svm.SVC(kernel=\"linear\", class_weight='balanced') #Use \"class_weight='balanced'\" to balance the dataset\n",
    "\n",
    "# Train the model on training data\n",
    "clfSVC.fit(xtrainvector, ytrain) \n",
    "\n",
    "# Predict the results from the testing data\n",
    "ypredictedSVC = list(clfSVC.predict(xtestvector))"
   ]
  },
  {
   "cell_type": "code",
   "execution_count": 14,
   "metadata": {},
   "outputs": [],
   "source": [
    "# ZeroR Classifier \n",
    "prediction = max(set(ytrain), key=ytrain.count)\n",
    "ypredicted0R = [prediction]*len(ytest)\n",
    "\n",
    "# use \"!pip install -U imbalanced-learn\" to install the imblearn library\n",
    "from imblearn.over_sampling import SMOTE\n",
    "\n",
    "# Balancing the datasets using the synthetic minority oversampling technique (SMOTE)\n",
    "sm = SMOTE(random_state = 7)\n",
    "xtrainvector, ytrain = sm.fit_resample(xtrainvector, ytrain)\n",
    "\n",
    "\n",
    "# KNN classifier\n",
    "from sklearn.neighbors import KNeighborsClassifier\n",
    "clfKNN = KNeighborsClassifier(n_neighbors = 7)\n",
    "\n",
    "# Train the model on training data\n",
    "clfKNN.fit(xtrainvector, ytrain)\n",
    "\n",
    "# Predict the results from the testing data\n",
    "ypredictedKNN = list(clfKNN.predict(xtestvector))\n",
    "\n",
    "\n",
    "# Logistic regression classifier\n",
    "from sklearn.linear_model import LogisticRegression\n",
    "clflr = LogisticRegression(max_iter=2000)\n",
    "\n",
    "clflr.fit(xtrainvector, ytrain)\n",
    "\n",
    "ypredictedlr = list(clflr.predict(xtestvector))\n",
    "\n",
    "\n",
    "# Naive Bayes classifier\n",
    "from sklearn.naive_bayes import GaussianNB\n",
    "clfNB = GaussianNB()\n",
    "\n",
    "clfNB.fit(xtrainvector.toarray(), ytrain)\n",
    "\n",
    "ypredictedNB = list(clfNB.predict(xtestvector.toarray()))"
   ]
  },
  {
   "cell_type": "markdown",
   "metadata": {},
   "source": [
    "### Exporting Predicted Results to a CSV"
   ]
  },
  {
   "cell_type": "code",
   "execution_count": 22,
   "metadata": {
    "scrolled": true
   },
   "outputs": [
    {
     "name": "stderr",
     "output_type": "stream",
     "text": [
      "C:\\Users\\ASHAZA~1\\AppData\\Local\\Temp/ipykernel_19196/2463327632.py:3: FutureWarning: In a future version of pandas all arguments of DataFrame.drop except for the argument 'labels' will be keyword-only\n",
      "  test_final = test_final.drop(\"text\", 1)\n"
     ]
    }
   ],
   "source": [
    "test_final = test_data\n",
    "test_final[\"sentiment\"] = ypredictedlr\n",
    "test_final = test_final.drop(\"text\", 1)\n",
    "compression_opts = dict(method=\"zip\", archive_name=\"out20.csv\")  \n",
    "test_final.to_csv(\"out20.zip\", index=False, compression=compression_opts)  "
   ]
  },
  {
   "cell_type": "markdown",
   "metadata": {},
   "source": [
    "### Evaluation Function - Confusion Matrix, Accuracy, F1-score, Label-wise Precision and Recall"
   ]
  },
  {
   "cell_type": "code",
   "execution_count": 15,
   "metadata": {},
   "outputs": [],
   "source": [
    "from sklearn.metrics import accuracy_score\n",
    "from sklearn.metrics import precision_recall_fscore_support as score\n",
    "from sklearn.metrics import f1_score\n",
    "from sklearn.metrics import confusion_matrix\n",
    "import matplotlib.pyplot as plt\n",
    "from sklearn.metrics import ConfusionMatrixDisplay\n",
    "\n",
    "# Ignore unnecessary warnings\n",
    "import warnings\n",
    "warnings.filterwarnings(\"ignore\") # default = warnings on. ignore = warnings off \n",
    "\n",
    "\n",
    "def printResults(ytest, ypredicted):\n",
    "    \n",
    "    # Confusion matrix of true value vs prediction of test set\n",
    "    labels = ['positive', 'neutral', 'negative']\n",
    "    cm = confusion_matrix(ytest, ypredicted)\n",
    "    fig = plt.figure()\n",
    "    ax = fig.add_subplot(111)\n",
    "    cax = ax.matshow(cm)\n",
    "    fig.colorbar(cax)\n",
    "    ax.set_xticklabels([''] + labels)\n",
    "    ax.set_yticklabels([''] + labels)\n",
    "    plt.xlabel('Predicted')\n",
    "    plt.ylabel('True')\n",
    "    plt.show()\n",
    "    \n",
    "    precision, recall, fscore, support = score(ytest, ypredicted)\n",
    "\n",
    "    print(\"Accuracy= \", accuracy_score(ytest, ypredicted)) # The accuracy score of model\n",
    "    print(\"Precision= \" , precision) \n",
    "    print(\"Recall= \", recall)\n",
    "    print(\"Fscore= \", fscore)\n",
    "    print('############################################')\n",
    "    print('############################################')\n",
    "    print(\"\\n\")"
   ]
  },
  {
   "cell_type": "markdown",
   "metadata": {},
   "source": [
    "### Results of Performance Metrics"
   ]
  },
  {
   "cell_type": "code",
   "execution_count": 16,
   "metadata": {},
   "outputs": [
    {
     "name": "stdout",
     "output_type": "stream",
     "text": [
      "Results for 0R:\n"
     ]
    },
    {
     "data": {
      "image/png": "[encoded data removed]",
      "text/plain": [
       "<Figure size 432x288 with 2 Axes>"
      ]
     },
     "metadata": {
      "needs_background": "light"
     },
     "output_type": "display_data"
    },
    {
     "name": "stdout",
     "output_type": "stream",
     "text": [
      "Accuracy=  0.5804922794679712\n",
      "Precision=  [0.         0.58049228 0.        ]\n",
      "Recall=  [0. 1. 0.]\n",
      "Fscore=  [0.         0.73457148 0.        ]\n",
      "############################################\n",
      "############################################\n",
      "\n",
      "\n"
     ]
    }
   ],
   "source": [
    "print(\"Results for 0R:\")\n",
    "printResults(ytest, ypredicted0R)"
   ]
  },
  {
   "cell_type": "code",
   "execution_count": 17,
   "metadata": {},
   "outputs": [
    {
     "name": "stdout",
     "output_type": "stream",
     "text": [
      "Results for KNN:\n"
     ]
    },
    {
     "data": {
      "image/png": "[encoded data removed]",
      "text/plain": [
       "<Figure size 432x288 with 2 Axes>"
      ]
     },
     "metadata": {
      "needs_background": "light"
     },
     "output_type": "display_data"
    },
    {
     "name": "stdout",
     "output_type": "stream",
     "text": [
      "Accuracy=  0.4751567038679101\n",
      "Precision=  [0.3258312  0.64006515 0.42206573]\n",
      "Recall=  [0.58279963 0.41401106 0.54451847]\n",
      "Fscore=  [0.417979   0.50279866 0.47553557]\n",
      "############################################\n",
      "############################################\n",
      "\n",
      "\n"
     ]
    }
   ],
   "source": [
    "print(\"Results for KNN:\")\n",
    "printResults(ytest, ypredictedKNN)"
   ]
  },
  {
   "cell_type": "code",
   "execution_count": 18,
   "metadata": {},
   "outputs": [
    {
     "name": "stdout",
     "output_type": "stream",
     "text": [
      "Results for Naive Bayes:\n"
     ]
    },
    {
     "data": {
      "image/png": "[encoded data removed]",
      "text/plain": [
       "<Figure size 432x288 with 2 Axes>"
      ]
     },
     "metadata": {
      "needs_background": "light"
     },
     "output_type": "display_data"
    },
    {
     "name": "stdout",
     "output_type": "stream",
     "text": [
      "Accuracy=  0.5115425775875249\n",
      "Precision=  [0.29572271 0.6303491  0.43233313]\n",
      "Recall=  [0.36688015 0.58967606 0.42761962]\n",
      "Fscore=  [0.3274806  0.6093346  0.42996346]\n",
      "############################################\n",
      "############################################\n",
      "\n",
      "\n"
     ]
    }
   ],
   "source": [
    "print(\"Results for Naive Bayes:\")\n",
    "printResults(ytest, ypredictedNB)"
   ]
  },
  {
   "cell_type": "code",
   "execution_count": 19,
   "metadata": {},
   "outputs": [
    {
     "name": "stdout",
     "output_type": "stream",
     "text": [
      "Results for Logistic Regression:\n"
     ]
    },
    {
     "data": {
      "image/png": "[encoded data removed]",
      "text/plain": [
       "<Figure size 432x288 with 2 Axes>"
      ]
     },
     "metadata": {
      "needs_background": "light"
     },
     "output_type": "display_data"
    },
    {
     "name": "stdout",
     "output_type": "stream",
     "text": [
      "Accuracy=  0.6214646078581256\n",
      "Precision=  [0.46741573 0.733125   0.54586241]\n",
      "Recall=  [0.57090576 0.6178562  0.6632344 ]\n",
      "Fscore=  [0.51400329 0.6705731  0.59885152]\n",
      "############################################\n",
      "############################################\n",
      "\n",
      "\n"
     ]
    }
   ],
   "source": [
    "print(\"Results for Logistic Regression:\")\n",
    "printResults(ytest, ypredictedlr)"
   ]
  },
  {
   "cell_type": "code",
   "execution_count": 20,
   "metadata": {},
   "outputs": [
    {
     "name": "stdout",
     "output_type": "stream",
     "text": [
      "Results for Linear SVC:\n"
     ]
    },
    {
     "data": {
      "image/png": "[encoded data removed]",
      "text/plain": [
       "<Figure size 432x288 with 2 Axes>"
      ]
     },
     "metadata": {
      "needs_background": "light"
     },
     "output_type": "display_data"
    },
    {
     "name": "stdout",
     "output_type": "stream",
     "text": [
      "Accuracy=  0.6254395352392601\n",
      "Precision=  [0.48048967 0.73808772 0.54430993]\n",
      "Recall=  [0.57456542 0.61601264 0.68079952]\n",
      "Fscore=  [0.52333333 0.67154752 0.60495156]\n",
      "############################################\n",
      "############################################\n",
      "\n",
      "\n"
     ]
    }
   ],
   "source": [
    "print(\"Results for Linear SVC:\")\n",
    "printResults(ytest, ypredictedSVC)"
   ]
  }
 ],
 "metadata": {
  "kernelspec": {
   "display_name": "Python 3 (ipykernel)",
   "language": "python",
   "name": "python3"
  },
  "language_info": {
   "codemirror_mode": {
    "name": "ipython",
    "version": 3
   },
   "file_extension": ".py",
   "mimetype": "text/x-python",
   "name": "python",
   "nbconvert_exporter": "python",
   "pygments_lexer": "ipython3",
   "version": "3.9.7"
  }
 },
 "nbformat": 4,
 "nbformat_minor": 4
}
